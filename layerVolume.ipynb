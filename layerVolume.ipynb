{
 "cells": [
  {
   "cell_type": "code",
   "execution_count": 1,
   "metadata": {
    "collapsed": true
   },
   "outputs": [],
   "source": [
    "#Number of filters K\n",
    "#their spatial extent F(kernel size)\n",
    "#the stride S\n",
    "#the amount of zero padding P\n",
    "\n",
    "#input\n",
    "w=227.0\n",
    "h=227.0\n",
    "d=3.0"
   ]
  },
  {
   "cell_type": "code",
   "execution_count": 2,
   "metadata": {
    "collapsed": false
   },
   "outputs": [
    {
     "name": "stdout",
     "output_type": "stream",
     "text": [
      "conv1\n",
      "w: 55.000000\n",
      "h: 55.000000\n",
      "d: 96.000000\n",
      "pool1\n",
      "w: 27.000000\n",
      "h: 27.000000\n",
      "d: 96.000000\n"
     ]
    }
   ],
   "source": [
    "#layer1\n",
    "k=96\n",
    "f=11\n",
    "s=4\n",
    "p=0\n",
    "\n",
    "\n",
    "w=(w-f+2*p)/s+1\n",
    "h=(h-f+2*p)/s+1\n",
    "d=k\n",
    "\n",
    "print 'conv1'\n",
    "print 'w: %f' %w\n",
    "print 'h: %f' %h\n",
    "print 'd: %f' %d\n",
    "\n",
    "\n",
    "f=3\n",
    "s=2\n",
    "\n",
    "w=(w-f)/s+1\n",
    "h=(h-f)/s+1\n",
    "d=d\n",
    "\n",
    "print 'pool1'\n",
    "print 'w: %f' %w\n",
    "print 'h: %f' %h\n",
    "print 'd: %f' %d\n"
   ]
  },
  {
   "cell_type": "code",
   "execution_count": 3,
   "metadata": {
    "collapsed": false
   },
   "outputs": [
    {
     "name": "stdout",
     "output_type": "stream",
     "text": [
      "conv2\n",
      "w: 27.000000\n",
      "h: 27.000000\n",
      "d: 256.000000\n",
      "pool2\n",
      "w: 13.000000\n",
      "h: 13.000000\n",
      "d: 256.000000\n"
     ]
    }
   ],
   "source": [
    "#layer2\n",
    "k=256\n",
    "f=5\n",
    "s=1\n",
    "p=2\n",
    "\n",
    "\n",
    "w=(w-f+2*p)/s+1\n",
    "h=(h-f+2*p)/s+1\n",
    "d=k\n",
    "\n",
    "print 'conv2'\n",
    "print 'w: %f' %w\n",
    "print 'h: %f' %h\n",
    "print 'd: %f' %d\n",
    "\n",
    "f=3\n",
    "s=2\n",
    "\n",
    "w=(w-f)/s+1\n",
    "h=(h-f)/s+1\n",
    "d=d\n",
    "\n",
    "print 'pool2'\n",
    "print 'w: %f' %w\n",
    "print 'h: %f' %h\n",
    "print 'd: %f' %d\n"
   ]
  },
  {
   "cell_type": "code",
   "execution_count": 4,
   "metadata": {
    "collapsed": false
   },
   "outputs": [
    {
     "name": "stdout",
     "output_type": "stream",
     "text": [
      "conv3\n",
      "w: 13.000000\n",
      "h: 13.000000\n",
      "d: 384.000000\n"
     ]
    }
   ],
   "source": [
    "#layer3\n",
    "k=384\n",
    "f=3\n",
    "s=1\n",
    "p=1\n",
    "\n",
    "\n",
    "w=(w-f+2*p)/s+1\n",
    "h=(h-f+2*p)/s+1\n",
    "d=k\n",
    "\n",
    "print 'conv3'\n",
    "print 'w: %f' %w\n",
    "print 'h: %f' %h\n",
    "print 'd: %f' %d\n",
    "\n"
   ]
  },
  {
   "cell_type": "code",
   "execution_count": 5,
   "metadata": {
    "collapsed": false
   },
   "outputs": [
    {
     "name": "stdout",
     "output_type": "stream",
     "text": [
      "conv4\n",
      "w: 13.000000\n",
      "h: 13.000000\n",
      "d: 384.000000\n"
     ]
    }
   ],
   "source": [
    "#layer4\n",
    "k=384\n",
    "f=3\n",
    "s=1\n",
    "p=1\n",
    "\n",
    "\n",
    "w=(w-f+2*p)/s+1\n",
    "h=(h-f+2*p)/s+1\n",
    "d=k\n",
    "\n",
    "print 'conv4'\n",
    "print 'w: %f' %w\n",
    "print 'h: %f' %h\n",
    "print 'd: %f' %d\n"
   ]
  },
  {
   "cell_type": "code",
   "execution_count": 6,
   "metadata": {
    "collapsed": false
   },
   "outputs": [
    {
     "name": "stdout",
     "output_type": "stream",
     "text": [
      "conv2\n",
      "w: 13.000000\n",
      "h: 13.000000\n",
      "d: 256.000000\n",
      "pool2\n",
      "w: 6.000000\n",
      "h: 6.000000\n",
      "d: 256.000000\n"
     ]
    }
   ],
   "source": [
    "#layer5\n",
    "k=256\n",
    "f=3\n",
    "s=1\n",
    "p=1\n",
    "\n",
    "\n",
    "w=(w-f+2*p)/s+1\n",
    "h=(h-f+2*p)/s+1\n",
    "d=k\n",
    "\n",
    "print 'conv2'\n",
    "print 'w: %f' %w\n",
    "print 'h: %f' %h\n",
    "print 'd: %f' %d\n",
    "\n",
    "f=3\n",
    "s=2\n",
    "\n",
    "w=(w-f)/s+1\n",
    "h=(h-f)/s+1\n",
    "d=d\n",
    "\n",
    "print 'pool2'\n",
    "print 'w: %f' %w\n",
    "print 'h: %f' %h\n",
    "print 'd: %f' %d\n",
    "\n",
    "#fc6 9216 > 4096\n",
    "#fc7 4096 > 4096\n",
    "#fc6 4096 > 1000\n",
    "\n"
   ]
  }
 ],
 "metadata": {
  "kernelspec": {
   "display_name": "Python 2",
   "language": "python",
   "name": "python2"
  },
  "language_info": {
   "codemirror_mode": {
    "name": "ipython",
    "version": 2
   },
   "file_extension": ".py",
   "mimetype": "text/x-python",
   "name": "python",
   "nbconvert_exporter": "python",
   "pygments_lexer": "ipython2",
   "version": "2.7.6"
  }
 },
 "nbformat": 4,
 "nbformat_minor": 0
}
